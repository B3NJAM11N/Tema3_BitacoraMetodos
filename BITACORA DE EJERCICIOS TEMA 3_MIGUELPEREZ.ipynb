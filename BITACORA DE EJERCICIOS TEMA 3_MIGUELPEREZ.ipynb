{
 "cells": [
  {
   "cell_type": "markdown",
   "metadata": {},
   "source": [
    "# Alumno: Miguel Benjamin Perez Suasnavar"
   ]
  },
  {
   "cell_type": "markdown",
   "metadata": {},
   "source": [
    "# Bitacora de ejercicio por medio del metodo de Jacobi"
   ]
  },
  {
   "cell_type": "markdown",
   "metadata": {},
   "source": [
    "## Ejercicio 1"
   ]
  },
  {
   "cell_type": "markdown",
   "metadata": {},
   "source": [
    "$I. {3X_1}-{X_2}+{X_3} =1$"
   ]
  },
  {
   "cell_type": "markdown",
   "metadata": {},
   "source": [
    "$II. {3X_1}+{6X_2}+{2x_3} =0$"
   ]
  },
  {
   "cell_type": "markdown",
   "metadata": {},
   "source": [
    "$III. {3X_1}+{3X_2}+{7X_3} =4$"
   ]
  },
  {
   "cell_type": "code",
   "execution_count": 7,
   "metadata": {},
   "outputs": [
    {
     "name": "stdout",
     "output_type": "stream",
     "text": [
      "(3, 3)\n",
      "(3,)\n",
      "-----------------------------\n",
      "*X1-----------X2----------X3\n",
      "[0.33333333 0.         0.57142857]\n",
      "Error:  1.0\n",
      "-----------------------------\n",
      "*X1-----------X2----------X3\n",
      "[ 0.14285714 -0.35714286  0.42857143]\n",
      "Error:  0.8333333333333333\n",
      "-----------------------------\n",
      "*X1-----------X2----------X3\n",
      "[ 0.07142857 -0.21428571  0.66326531]\n",
      "Error:  0.35384615384615387\n",
      "-----------------------------\n",
      "*X1-----------X2----------X3\n",
      "[ 0.04081633 -0.25680272  0.63265306]\n",
      "Error:  0.06720430107526885\n",
      "-----------------------------\n",
      "*X1-----------X2----------X3\n",
      "[ 0.03684807 -0.23129252  0.66399417]\n",
      "Error:  0.047200878155872754\n",
      "-----------------------------\n",
      "*X1-----------X2----------X3\n",
      "[ 0.03490444 -0.23975543  0.6547619 ]\n",
      "Error:  0.014100185528757097\n",
      "-----------------------------\n",
      "*X1-----------X2----------X3\n",
      "[ 0.03516089 -0.23570619  0.65922185]\n",
      "Error:  0.0067654723984521626\n"
     ]
    }
   ],
   "source": [
    "import numpy as np\n",
    "import math \n",
    "#Se define la matriz T\n",
    "\n",
    "T=np.array([[0,1/3,-1/3],[-3/6,0,-2/6],[-3/7,-3/7,0]])\n",
    "C=np.array([1/3,0,4/7])\n",
    "X=np.array([0,0,0])\n",
    "print(T.shape)\n",
    "print(C.shape)\n",
    "\n",
    "error=1\n",
    "while error>0.01: \n",
    "    resultado=np.dot(T,X)+C\n",
    "    print(\"-----------------------------\")\n",
    "    print(\"*X1-----------X2----------X3\")\n",
    "    print(resultado)\n",
    "    numerador = np.amax(abs((resultado - X)))\n",
    "    denominador = np.amax(abs(resultado))\n",
    "    error = numerador/denominador\n",
    "    X=resultado\n",
    "    print(\"Error: \",error)"
   ]
  },
  {
   "cell_type": "code",
   "execution_count": 2,
   "metadata": {},
   "outputs": [
    {
     "name": "stdout",
     "output_type": "stream",
     "text": [
      "X1=:  0.03516088975272652\n",
      "X2=:  -0.23570618723679945\n",
      "X3=:  0.6592218520061085\n"
     ]
    }
   ],
   "source": [
    "print(\"X1=: \",resultado[0])\n",
    "print(\"X2=: \",resultado[1])\n",
    "print(\"X3=: \",resultado[2])"
   ]
  },
  {
   "cell_type": "markdown",
   "metadata": {},
   "source": [
    "## Ejercicio 2"
   ]
  },
  {
   "cell_type": "markdown",
   "metadata": {},
   "source": [
    "$I.  {10X_1}-{X_2}         =9$"
   ]
  },
  {
   "cell_type": "markdown",
   "metadata": {},
   "source": [
    "$II. {-X_1}+{10X_2}-{2X_3}=7$"
   ]
  },
  {
   "cell_type": "markdown",
   "metadata": {},
   "source": [
    "$III.      {-2X_2}+{10X_3}=6$"
   ]
  },
  {
   "cell_type": "code",
   "execution_count": 11,
   "metadata": {},
   "outputs": [
    {
     "name": "stdout",
     "output_type": "stream",
     "text": [
      "(3, 3)\n",
      "(3,)\n",
      "-----------------------------\n",
      "*X1----X2-----X3\n",
      "[0.9 0.7 0.6]\n",
      "Error:  1.0\n",
      "-----------------------------\n",
      "*X1----X2-----X3\n",
      "[0.97 0.91 0.74]\n",
      "Error:  0.21649484536082472\n",
      "-----------------------------\n",
      "*X1----X2-----X3\n",
      "[0.991 0.945 0.782]\n",
      "Error:  0.04238143289606462\n",
      "-----------------------------\n",
      "*X1----X2-----X3\n",
      "[0.9945 0.9555 0.789 ]\n",
      "Error:  0.010558069381598858\n",
      "-----------------------------\n",
      "*X1----X2-----X3\n",
      "[0.99555 0.95725 0.7911 ]\n",
      "Error:  0.0021093867711316373\n"
     ]
    }
   ],
   "source": [
    "T=np.array([[0,1/10,0],[1/10,0,2/10],[0,2/10,0]])\n",
    "C=np.array([9/10,7/10,6/10])\n",
    "X=np.array([0,0,0])\n",
    "\n",
    "print(T.shape)\n",
    "print(C.shape)\n",
    "error=1\n",
    "while error>0.01: \n",
    "    resultado=np.dot(T,X)+C\n",
    "    print(\"-----------------------------\")\n",
    "    print(\"*X1----X2-----X3\")\n",
    "    print(resultado)\n",
    "    numerador = np.amax(abs((resultado - X)))\n",
    "    denominador = np.amax(abs(resultado))\n",
    "    error = numerador/denominador\n",
    "    X=resultado\n",
    "    print(\"Error: \",error)"
   ]
  },
  {
   "cell_type": "code",
   "execution_count": 14,
   "metadata": {},
   "outputs": [
    {
     "name": "stdout",
     "output_type": "stream",
     "text": [
      "X1=:  0.99555\n",
      "X2=:  0.9572499999999999\n",
      "X3=:  0.7911\n"
     ]
    }
   ],
   "source": [
    "print(\"X1=: \",resultado[0])\n",
    "print(\"X2=: \",resultado[1])\n",
    "print(\"X3=: \",resultado[2])"
   ]
  },
  {
   "cell_type": "markdown",
   "metadata": {},
   "source": [
    "## Ejercicio 3"
   ]
  },
  {
   "cell_type": "markdown",
   "metadata": {},
   "source": [
    "$I.  {10X_1}+{5X_2}=6$"
   ]
  },
  {
   "cell_type": "markdown",
   "metadata": {},
   "source": [
    "$II.  {5X_1}+{10X_2}-{4X_3}=25$"
   ]
  },
  {
   "cell_type": "markdown",
   "metadata": {},
   "source": [
    "$III. {-4X_2}+{8X_3}-{X_4}=-11$"
   ]
  },
  {
   "cell_type": "markdown",
   "metadata": {},
   "source": [
    "$IV. {-X_3}+{5X_4}=-11$"
   ]
  },
  {
   "cell_type": "code",
   "execution_count": 23,
   "metadata": {},
   "outputs": [
    {
     "name": "stdout",
     "output_type": "stream",
     "text": [
      "(4, 4)\n",
      "(4,)\n",
      "-----------------------------\n",
      "*X1----------X2------------X3-----------X4\n",
      "[ 0.6    2.5    1.375 -2.2  ]\n",
      "Error:  1.0\n",
      "-----------------------------\n",
      "*X1----------X2------------X3-----------X4\n",
      "[-0.65   2.75   2.35  -1.925]\n",
      "Error:  0.45454545454545453\n",
      "-----------------------------\n",
      "*X1----------X2------------X3-----------X4\n",
      "[-0.775     3.765     2.509375 -1.73    ]\n",
      "Error:  0.26958831341301465\n",
      "-----------------------------\n",
      "*X1----------X2------------X3-----------X4\n",
      "[-1.2825    3.89125   3.04125  -1.698125]\n",
      "Error:  0.1366848699004176\n",
      "-----------------------------\n",
      "*X1----------X2------------X3-----------X4\n",
      "[-1.345625    4.35775     3.10835938 -1.59175   ]\n",
      "Error:  0.10705065687568134\n",
      "-----------------------------\n",
      "*X1----------X2------------X3-----------X4\n",
      "[-1.578875    4.41615625  3.35490625 -1.57832813]\n",
      "Error:  0.05582838582760742\n",
      "-----------------------------\n",
      "*X1----------X2------------X3-----------X4\n",
      "[-1.60807813  4.6314      3.38578711 -1.52901875]\n",
      "Error:  0.04647487800665025\n",
      "-----------------------------\n",
      "*X1----------X2------------X3-----------X4\n",
      "[-1.7157      4.65835391  3.49957266 -1.52284258]\n",
      "Error:  0.024426127590335432\n",
      "-----------------------------\n",
      "*X1----------X2------------X3-----------X4\n",
      "[-1.72917695  4.75767906  3.51382163 -1.50008547]\n",
      "Error:  0.020876808827413405\n",
      "-----------------------------\n",
      "*X1----------X2------------X3-----------X4\n",
      "[-1.77883953  4.77011713  3.56632885 -1.49723567]\n",
      "Error:  0.011007531969956985\n",
      "-----------------------------\n",
      "*X1----------X2------------X3-----------X4\n",
      "[-1.78505856  4.8159513   3.57290411 -1.48673423]\n",
      "Error:  0.009517159306955299\n"
     ]
    }
   ],
   "source": [
    "T=np.array([[0,-5/10,0,0],[-5/10,0,4/10,0],[0,4/8,0,1/8],[0,0,1/5,0]])\n",
    "C=np.array([6/10,2.5,11/8,-11/5])\n",
    "X=np.array([0,0,0,0])\n",
    "\n",
    "print(T.shape)\n",
    "print(C.shape)\n",
    "error=1\n",
    "while error>0.01: \n",
    "    resultado=np.dot(T,X)+C\n",
    "    print(\"-----------------------------\")\n",
    "    print(\"*X1----------X2------------X3-----------X4\")\n",
    "    print(resultado)\n",
    "    numerador = np.amax(abs((resultado - X)))\n",
    "    denominador = np.amax(abs(resultado))\n",
    "    error = numerador/denominador\n",
    "    X=resultado\n",
    "    print(\"Error: \",error)"
   ]
  },
  {
   "cell_type": "markdown",
   "metadata": {},
   "source": [
    "## Ejercicio 4"
   ]
  },
  {
   "cell_type": "markdown",
   "metadata": {},
   "source": [
    "$I. {4X_1}+{X_2}-{X_3}+{X_4}=-2$"
   ]
  },
  {
   "cell_type": "markdown",
   "metadata": {},
   "source": [
    "$I. {X_1}+{4X_2}-{X_3}-{X_4}=-1$"
   ]
  },
  {
   "cell_type": "markdown",
   "metadata": {},
   "source": [
    "$III. {-X_1}-{X_2}+{5X_3}+{X_4}=0$"
   ]
  },
  {
   "cell_type": "markdown",
   "metadata": {},
   "source": [
    "$IV. {X_1}-{X_2}+{X_3}+{3X_4}=1$"
   ]
  },
  {
   "cell_type": "code",
   "execution_count": 24,
   "metadata": {},
   "outputs": [
    {
     "name": "stdout",
     "output_type": "stream",
     "text": [
      "(4, 4)\n",
      "(4,)\n",
      "-----------------------------\n",
      "*X1----------X2------------X3-----------X4\n",
      "[-0.5        -0.25        0.          0.33333333]\n",
      "Error:  1.0\n",
      "-----------------------------\n",
      "*X1----------X2------------X3-----------X4\n",
      "[-0.52083333 -0.04166667 -0.21666667  0.41666667]\n",
      "Error:  0.416\n",
      "-----------------------------\n",
      "*X1----------X2------------X3-----------X4\n",
      "[-0.64791667 -0.06979167 -0.19583333  0.56527778]\n",
      "Error:  0.22936763129689178\n",
      "-----------------------------\n",
      "*X1----------X2------------X3-----------X4\n",
      "[-0.67282986  0.00434028 -0.25659722  0.59131944]\n",
      "Error:  0.11017933169913562\n",
      "-----------------------------\n",
      "*X1----------X2------------X3-----------X4\n",
      "[-0.71306424  0.00188802 -0.25196181  0.64458912]\n",
      "Error:  0.07470529754296262\n",
      "-----------------------------\n",
      "*X1----------X2------------X3-----------X4\n",
      "[-0.72460974  0.02642289 -0.27115307  0.65563802]\n",
      "Error:  0.03385942205279923\n",
      "-----------------------------\n",
      "*X1----------X2------------X3-----------X4\n",
      "[-0.73830349  0.02727367 -0.27076497  0.6740619 ]\n",
      "Error:  0.024954339918395053\n",
      "-----------------------------\n",
      "*X1----------X2------------X3-----------X4\n",
      "[-0.74302514  0.0354001  -0.27701834  0.67878071]\n",
      "Error:  0.010936953941165575\n",
      "-----------------------------\n",
      "*X1----------X2------------X3-----------X4\n",
      "[-0.74779979  0.03619688 -0.27728115  0.68514786]\n",
      "Error:  0.008514508691469566\n"
     ]
    }
   ],
   "source": [
    "T=np.array([[0,-1/4,1/4,-1/4],[-1/4,0,1/4,1/4],[1/5,1/5,0,-1/5],[-1/3,1/3,-1/3,0]])\n",
    "C=np.array([-2/4,-1/4,0,1/3])\n",
    "X=np.array([0,0,0,0])\n",
    "\n",
    "print(T.shape)\n",
    "print(C.shape)\n",
    "error=1\n",
    "while error>0.01: \n",
    "    resultado=np.dot(T,X)+C\n",
    "    print(\"-----------------------------\")\n",
    "    print(\"*X1----------X2------------X3-----------X4\")\n",
    "    print(resultado)\n",
    "    numerador = np.amax(abs((resultado - X)))\n",
    "    denominador = np.amax(abs(resultado))\n",
    "    error = numerador/denominador\n",
    "    X=resultado\n",
    "    print(\"Error: \",error)"
   ]
  },
  {
   "cell_type": "code",
   "execution_count": 25,
   "metadata": {},
   "outputs": [
    {
     "name": "stdout",
     "output_type": "stream",
     "text": [
      "X1=:  -0.7477997903706115\n",
      "X2=:  0.03619687643168884\n",
      "X3=:  -0.27728114902826\n",
      "X4=:  0.6851478613080311\n"
     ]
    }
   ],
   "source": [
    "print(\"X1=: \",resultado[0])\n",
    "print(\"X2=: \",resultado[1])\n",
    "print(\"X3=: \",resultado[2])\n",
    "print(\"X4=: \",resultado[3])"
   ]
  },
  {
   "cell_type": "markdown",
   "metadata": {},
   "source": [
    "## Ejercicios resueltos por el metodo de Newton"
   ]
  },
  {
   "cell_type": "markdown",
   "metadata": {},
   "source": [
    "### Ejercicio A"
   ]
  },
  {
   "cell_type": "markdown",
   "metadata": {},
   "source": [
    "${4x_1^2}-{20x_1}+{1/4x_2^2}+8=0$"
   ]
  },
  {
   "cell_type": "markdown",
   "metadata": {},
   "source": [
    "${1/2X_1X_2^2}+{2x_1}-{5x_2}+8=0$"
   ]
  },
  {
   "cell_type": "code",
   "execution_count": 8,
   "metadata": {},
   "outputs": [
    {
     "name": "stdout",
     "output_type": "stream",
     "text": [
      "Iteración: 1 |Resultado  [0.41872505 1.64041873]\n",
      "Iteración: 2 |Resultado  [0.49153376 1.89976046]\n",
      "Iteración: 3 |Resultado  [0.49843679 1.97650382]\n",
      "Iteración: 4 |Resultado  [0.49965555 1.99456852]\n"
     ]
    }
   ],
   "source": [
    "import numpy as np\n",
    "from math import * \n",
    "\n",
    "def jacobiano(x):\n",
    "    J = np.array([[8*x[0]-20, 1/2*x[1]], [1/2*x[1]**2, -5]])\n",
    "    JInversa = np.linalg.inv(J)\n",
    "    return JInversa\n",
    "\n",
    "def Fx(x):\n",
    "    xk=np.array([4*x[0]**2-20*x[0]+1/4*x[1]**2+8, 1/2*x[0]*x[1]**2+2*x[0]-5*x[1]+8]) #matriz inicial\n",
    "    return xk\n",
    "x = np.array([0.1, 0.1]) #vector de valores iniciales\n",
    "error = 1\n",
    "c=0\n",
    "while error>0.01:\n",
    "    c+=1\n",
    "    r= jacobiano(x)\n",
    "    feval = Fx(x)\n",
    "    resultado =x- np.dot(r,feval)\n",
    "    \n",
    "    numerador = np.amax( abs((resultado - x)))\n",
    "    denominador = np.amax( abs(resultado))\n",
    "    error = numerador/denominador\n",
    "    x=resultado\n",
    "    \n",
    "    print(\"Iteración:\",c,\"|Resultado \",resultado)\n",
    "    "
   ]
  },
  {
   "cell_type": "markdown",
   "metadata": {},
   "source": [
    "### Ejercicio C"
   ]
  },
  {
   "cell_type": "markdown",
   "metadata": {},
   "source": [
    "${3x_1}-{cos}{(x_2}{x_3)}-{1/2}=0$"
   ]
  },
  {
   "cell_type": "markdown",
   "metadata": {},
   "source": [
    "${4x^2_1}-{625x^2_2}+{2x_2}-1=0$"
   ]
  },
  {
   "cell_type": "markdown",
   "metadata": {},
   "source": [
    "${e^-x_1x_2}+{20X_3}+10π-3/_3=0$"
   ]
  },
  {
   "cell_type": "code",
   "execution_count": 7,
   "metadata": {},
   "outputs": [
    {
     "name": "stdout",
     "output_type": "stream",
     "text": [
      "Iteración: 1 | Resultado  [ 0.49984215  0.10145191 -0.52211478]\n",
      "Iteración: 2 | Resultado  [ 0.4995034   0.10382484 -0.52614492]\n"
     ]
    }
   ],
   "source": [
    "import numpy as np\n",
    "from math import * \n",
    "\n",
    "def jacobiano(x):\n",
    "    J = np.array([[3, x[2]*sin(x[1]*x[2]), x[1]*sin(x[1]*x[2])], [8, 1250*(x[1]+2), 0], [-x[1]*exp(-x[0]*x[1]), -x[0]*exp(-x[0]*x[1]), 20]])    \n",
    "    JInversa = np.linalg.inv(J)\n",
    "    return JInversa\n",
    "\n",
    "def Fx(x):#matriz inicial\n",
    "    xk=np.array([3*x[0]-cos(x[1]*x[2])-1/2, 4*x[0]**2-625*x[1]**2+2*x[1]-1, e**(x[0]*x[1])+20*x[2]+(10*pi-3)/(3)])\n",
    "    return xk\n",
    "x = np.array([0.1,0.1,-0.1]) #vector de valores iniciales\n",
    "error = 1\n",
    "c=0\n",
    "while error>0.01:\n",
    "    c+=1\n",
    "    r= jacobiano(x)\n",
    "    feval = Fx(x)\n",
    "    resultado =x- np.dot(r,feval)\n",
    "    \n",
    "    numerador = np.amax( abs((resultado - x)))\n",
    "    denominador = np.amax( abs(resultado))\n",
    "    error = numerador/denominador\n",
    "    x=resultado\n",
    "    \n",
    "    print(\"Iteración:\",c,\"| Resultado \",resultado)\n",
    "    "
   ]
  },
  {
   "cell_type": "markdown",
   "metadata": {},
   "source": [
    "### Ejercicio D"
   ]
  },
  {
   "cell_type": "markdown",
   "metadata": {},
   "source": [
    "${X^2_1}+{X_2}-37=0$"
   ]
  },
  {
   "cell_type": "markdown",
   "metadata": {},
   "source": [
    "${X_1}-{X^2_2}-5=0$"
   ]
  },
  {
   "cell_type": "markdown",
   "metadata": {},
   "source": [
    "${x_1}+{X_2}+{X_3}-3=0$"
   ]
  },
  {
   "cell_type": "code",
   "execution_count": 5,
   "metadata": {},
   "outputs": [
    {
     "name": "stdout",
     "output_type": "stream",
     "text": [
      "Iteración: 1 | Resultado  [ 11.91538462  34.62692308 -43.54230769] |\n",
      "Iteración: 2 | Resultado  [  6.7827096   17.33920321 -21.12191281] |\n",
      "Iteración: 3 | Resultado  [  5.47876486   8.68340745 -11.16217232] |\n",
      "Iteración: 4 | Resultado  [ 5.71606289  4.3829354  -7.09899829] |\n",
      "Iteración: 5 | Resultado  [ 5.89391092  2.29344398 -5.1873549 ] |\n",
      "Iteración: 6 | Resultado  [ 5.97055766  1.35831592 -4.32887359] |\n",
      "Iteración: 7 | Resultado  [ 5.99623096  1.04587344 -4.0421044 ] |\n",
      "Iteración: 8 | Resultado  [ 5.99992047  1.00096801 -4.00088848] |\n"
     ]
    }
   ],
   "source": [
    "import numpy as np\n",
    "from math import * \n",
    "\n",
    "def jacobiano(x):\n",
    "    J = np.array([[2*x[0], 1, 0], [1, -2*x[1], 0], [1, 1, 1]])\n",
    "    JInversa = np.linalg.inv(J)\n",
    "    return JInversa\n",
    "\n",
    "def Fx(x): #matriz inicial\n",
    "    xk=np.array([x[0]**2+x[1]-37, x[0]-x[1]**2-5, x[0]+x[1]+x[2]-3])\n",
    "    return xk\n",
    "x = np.array([0.1,0.1,-0.1]) #vector de valores iniciales\n",
    "\n",
    "error = 1\n",
    "c=0\n",
    "while error>0.01:\n",
    "    c+=1\n",
    "    r= jacobiano(x)\n",
    "    feval = Fx(x)\n",
    "    resultado =x- np.dot(r,feval)\n",
    "    \n",
    "    numerador = np.amax( abs((resultado - x)))\n",
    "    denominador = np.amax( abs(resultado))\n",
    "    error = numerador/denominador\n",
    "    x=resultado\n",
    "    \n",
    "    print(\"Iteración:\",c,\"| Resultado \",resultado,\"|\")"
   ]
  },
  {
   "cell_type": "code",
   "execution_count": null,
   "metadata": {},
   "outputs": [],
   "source": []
  }
 ],
 "metadata": {
  "kernelspec": {
   "display_name": "Python 3",
   "language": "python",
   "name": "python3"
  },
  "language_info": {
   "codemirror_mode": {
    "name": "ipython",
    "version": 3
   },
   "file_extension": ".py",
   "mimetype": "text/x-python",
   "name": "python",
   "nbconvert_exporter": "python",
   "pygments_lexer": "ipython3",
   "version": "3.8.5"
  }
 },
 "nbformat": 4,
 "nbformat_minor": 4
}
